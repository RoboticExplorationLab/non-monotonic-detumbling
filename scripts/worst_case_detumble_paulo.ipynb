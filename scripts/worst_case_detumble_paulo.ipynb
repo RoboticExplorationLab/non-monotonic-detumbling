{
 "cells": [
  {
   "cell_type": "code",
   "execution_count": null,
   "metadata": {},
   "outputs": [],
   "source": [
    "using Pkg\n",
    "Pkg.activate(joinpath(@__DIR__, \"..\"))\n",
    "import SatelliteDynamics\n",
    "using Random\n",
    "Random.seed!(0)\n",
    "\n",
    "include(\"../src/satellite_simulator.jl\")\n",
    "include(\"../src/detumble_controller.jl\")\n",
    "include(\"../src/satellite_models.jl\")"
   ]
  },
  {
   "cell_type": "code",
   "execution_count": null,
   "metadata": {},
   "outputs": [],
   "source": [
    "\n",
    "params = OrbitDynamicsParameters(py4_model_diagonal;\n",
    "    distance_scale=1.0,\n",
    "    time_scale=1.0,\n",
    "    angular_rate_scale=1.0,\n",
    "    control_scale=1,\n",
    "    control_type=:dipole,\n",
    "    magnetic_model=:IGRF13,\n",
    "    add_solar_radiation_pressure=true,\n",
    "    add_sun_thirdbody=true,\n",
    "    add_moon_thirdbody=true)\n",
    "\n",
    "x_osc_0 = [400e3 + SatelliteDynamics.R_EARTH, 0.0, deg2rad(50), deg2rad(-1.0), 0.0, 0.0] # a, e, i, Ω, ω, M\n",
    "# x_osc_0 = [525e3 + SatelliteDynamics.R_EARTH, 0.0001, deg2rad(97.6), deg2rad(-1.0), 0.0, 45.0] # a, e, i, Ω, ω, M\n",
    "q0 = [1.0, 0.0, 0.0, 0.0]\n",
    "ω0 = [0.0, 0.0, 0.0]\n",
    "\n",
    "\n",
    "\n",
    "tspan = (0.0, 5 * 60 * 60.0)\n",
    "x0 = state_from_osc(x_osc_0, q0, ω0)\n",
    "\n",
    "x0 = h_B_aligned_initial_conditions(x0, deg2rad(50), params)\n"
   ]
  },
  {
   "cell_type": "code",
   "execution_count": null,
   "metadata": {},
   "outputs": [],
   "source": [
    "xhist_projection, uhist_projection, thist_projection = simulate_satellite_orbit_attitude_rk4(x0, params, tspan; integrator_dt=0.1, controller=(x, t, m) -> projection_control(x, t, m; k1=10.0, k2=10.0,saturate=true), controller_dt=0.0)"
   ]
  }
 ],
 "metadata": {
  "language_info": {
   "name": "python"
  },
  "orig_nbformat": 4
 },
 "nbformat": 4,
 "nbformat_minor": 2
}
